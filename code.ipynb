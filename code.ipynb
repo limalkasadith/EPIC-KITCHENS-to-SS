{
 "cells": [
  {
   "cell_type": "code",
   "execution_count": 23,
   "outputs": [],
   "source": [
    "from moviepy.video.io.VideoFileClip import VideoFileClip\n",
    "import pandas as pd\n",
    "import json\n",
    "import copy"
   ],
   "metadata": {
    "collapsed": false,
    "ExecuteTime": {
     "start_time": "2023-05-07T14:19:13.228106Z",
     "end_time": "2023-05-07T14:19:13.232643Z"
    }
   }
  },
  {
   "cell_type": "code",
   "execution_count": 36,
   "outputs": [],
   "source": [
    "def split_video(video_path,out_path, start_timestamp, end_timestamp, out_name):\n",
    "    # Load the video clip\n",
    "    video_clip = VideoFileClip(video_path)\n",
    "\n",
    "    # Convert the start and end timestamps to seconds\n",
    "    start_time = convert_timestamp_to_seconds(start_timestamp)\n",
    "    end_time = convert_timestamp_to_seconds(end_timestamp)\n",
    "\n",
    "    # Extract the video segment between the start and end times\n",
    "    clip_segment = video_clip.subclip(start_time, end_time)\n",
    "\n",
    "    # Write the output video segment to a new file\n",
    "    output_filename = out_path + out_name + '.mp4'\n",
    "    clip_segment.write_videofile(output_filename)\n",
    "\n",
    "def convert_timestamp_to_seconds(timestamp):\n",
    "    # Split the timestamp string into minutes, seconds, and milliseconds\n",
    "    minutes, seconds = timestamp.split(\":\")\n",
    "    # seconds, milliseconds = seconds.split(\".\")\n",
    "\n",
    "    # Convert the minutes, seconds, and milliseconds to integers\n",
    "    minutes = int(minutes)\n",
    "    seconds = float(seconds)\n",
    "    # milliseconds = int(milliseconds + \"0\" * (3 - len(milliseconds)))\n",
    "\n",
    "    # Calculate the total number of seconds and return the result\n",
    "    # total_seconds = minutes * 60 + seconds + milliseconds / 1000\n",
    "    total_seconds = minutes * 60 + seconds\n",
    "    return total_seconds\n"
   ],
   "metadata": {
    "collapsed": false,
    "ExecuteTime": {
     "start_time": "2023-05-07T14:43:11.056519Z",
     "end_time": "2023-05-07T14:43:11.070228Z"
    }
   }
  },
  {
   "cell_type": "code",
   "execution_count": null,
   "outputs": [],
   "source": [
    "# start = '00:10.0'\n",
    "# end = '00:20.0'\n",
    "#\n",
    "# out_path = 'C:/Users/Snov/Documents/MBZUAI_Local/splitter_output/'\n",
    "# in_path = 'C:/Users/Snov/Documents/MBZUAI_Local/sample.mp4'\n",
    "#\n",
    "# split_video(in_path, out_path, start, end)"
   ],
   "metadata": {
    "collapsed": false,
    "ExecuteTime": {
     "start_time": "2023-05-03T15:38:30.615940Z",
     "end_time": "2023-05-03T15:38:42.069245Z"
    }
   }
  },
  {
   "cell_type": "code",
   "execution_count": null,
   "outputs": [],
   "source": [
    "# Dict template\n",
    "dict_temp = {\"id\":\"74225\",\n",
    "            \"label\":\"spinning cube that quickly stops spinning\",\n",
    "            \"template\":\"Spinning [something] that quickly stops spinning\",\n",
    "            \"placeholders\":[\"cube\"]}"
   ],
   "metadata": {
    "collapsed": false
   }
  },
  {
   "cell_type": "code",
   "execution_count": 37,
   "outputs": [],
   "source": [
    "def get_template(label, nouns):\n",
    "    template = copy.deepcopy(label)\n",
    "    for noun in nouns:\n",
    "        template = template.replace(noun, '[something]')\n",
    "    return template"
   ],
   "metadata": {
    "collapsed": false,
    "ExecuteTime": {
     "start_time": "2023-05-07T14:43:13.171706Z",
     "end_time": "2023-05-07T14:43:13.176566Z"
    }
   }
  },
  {
   "cell_type": "code",
   "execution_count": 38,
   "outputs": [],
   "source": [
    "def get_attributes(narration_id, label, nouns, template):\n",
    "    dict_template = {\"id\":narration_id,\n",
    "                \"label\":label,\n",
    "                \"template\":template,\n",
    "                \"placeholders\":nouns}\n",
    "    return dict_template"
   ],
   "metadata": {
    "collapsed": false,
    "ExecuteTime": {
     "start_time": "2023-05-07T14:43:14.374057Z",
     "end_time": "2023-05-07T14:43:14.376580Z"
    }
   }
  },
  {
   "cell_type": "code",
   "execution_count": 75,
   "outputs": [],
   "source": [
    "def generate_json(annotations_list, output_json_name, path = ''):\n",
    "    json_str = json.dumps(annotations_list)\n",
    "    indented_str = json_str.replace('{', '\\n{')\n",
    "\n",
    "    with open(path + output_json_name, \"w\") as f:\n",
    "        f.write(indented_str)\n"
   ],
   "metadata": {
    "collapsed": false,
    "ExecuteTime": {
     "start_time": "2023-05-07T14:57:53.863400Z",
     "end_time": "2023-05-07T14:57:53.869887Z"
    }
   }
  },
  {
   "cell_type": "code",
   "execution_count": 40,
   "outputs": [],
   "source": [
    "def convert_video(EPIC_dataframe, video_name, path):\n",
    "    filtered_df = EPIC_dataframe[EPIC_dataframe['video_id'] == video_name]\n",
    "    in_path = path + 'input/' + video_name + '.mp4'\n",
    "    out_path = path + 'output/'\n",
    "\n",
    "    video_annotations = []\n",
    "\n",
    "    for index, row in filtered_df.iterrows():\n",
    "        start = row['start_timestamp']\n",
    "        end = row['stop_timestamp']\n",
    "        verb = row['verb']\n",
    "        nouns = eval(row['all_nouns'])\n",
    "        narration_id = row['narration_id']\n",
    "        label = row['narration']\n",
    "        placeholders = nouns\n",
    "\n",
    "        # creating the template\n",
    "        template = get_template(label, nouns)\n",
    "\n",
    "        print(\"id: {},\\nlabel: {},\\ntemplate: {},\\nplaceholders: {},\\ntart: {},\\nend {}\\n\".format(narration_id, label, template, placeholders, start, end))\n",
    "\n",
    "        # split the video according to the timestamps\n",
    "        # split_video(in_path, out_path, start, end, narration_id)\n",
    "\n",
    "        #get the attributes same as Something-Something dataset\n",
    "        video_annotations.append(get_attributes(narration_id, label, nouns, template))\n",
    "\n",
    "    return video_annotations\n",
    "\n"
   ],
   "metadata": {
    "collapsed": false,
    "ExecuteTime": {
     "start_time": "2023-05-07T14:43:19.235516Z",
     "end_time": "2023-05-07T14:43:19.237539Z"
    }
   }
  },
  {
   "cell_type": "code",
   "execution_count": 20,
   "outputs": [
    {
     "data": {
      "text/plain": "  narration_id participant_id video_id narration_timestamp start_timestamp  \\\n0     P01_01_0            P01   P01_01             00:01.1         00:00.1   \n1     P01_01_1            P01   P01_01             00:02.6         00:04.4   \n2    P01_01_10            P01   P01_01             00:23.3         00:25.0   \n3   P01_01_100            P01   P01_01             07:57.9         07:59.8   \n4   P01_01_101            P01   P01_01             08:00.0         08:01.5   \n5   P01_01_102            P01   P01_01             08:01.2         08:02.1   \n6   P01_01_103            P01   P01_01             08:03.9         08:05.2   \n7   P01_01_104            P01   P01_01             08:07.6         08:08.4   \n8   P01_01_105            P01   P01_01             08:09.9         08:12.0   \n9   P01_01_106            P01   P01_01             08:12.9         08:13.2   \n\n  stop_timestamp  start_frame  stop_frame                        narration  \\\n0        00:03.4            8         202                        open door   \n1        00:06.2          262         370                    turn on light   \n2        00:26.2         1498        1572                      open drawer   \n3        08:00.9        28785       28852                         take cup   \n4        08:02.2        28888       28932                    open cupboard   \n5        08:03.0        28927       28980            put cup into cupboard   \n6        08:07.2        29113       29232           take container and lid   \n7        08:09.1        29302       29347  put container on top of counter   \n8        08:12.7        29520       29564                   open container   \n9        08:14.4        29593       29662   put container inside container   \n\n         verb  verb_class       noun  noun_class  \\\n0        open           3       door           3   \n1     turn-on           6      light         114   \n2        open           3     drawer           8   \n3        take           0        cup          13   \n4        open           3   cupboard           3   \n5    put-into           5        cup          13   \n6        take           0  container          21   \n7      put-on           1  container          21   \n8        open           3  container          21   \n9  put-inside           5  container          21   \n\n                      all_nouns all_noun_classes  \n0                      ['door']              [3]  \n1                     ['light']            [114]  \n2                    ['drawer']              [8]  \n3                       ['cup']             [13]  \n4                  ['cupboard']              [3]  \n5           ['cup', 'cupboard']          [13, 3]  \n6          ['container', 'lid']          [21, 6]  \n7  ['container', 'top:counter']         [21, 42]  \n8                 ['container']             [21]  \n9    ['container', 'container']         [21, 21]  ",
      "text/html": "<div>\n<style scoped>\n    .dataframe tbody tr th:only-of-type {\n        vertical-align: middle;\n    }\n\n    .dataframe tbody tr th {\n        vertical-align: top;\n    }\n\n    .dataframe thead th {\n        text-align: right;\n    }\n</style>\n<table border=\"1\" class=\"dataframe\">\n  <thead>\n    <tr style=\"text-align: right;\">\n      <th></th>\n      <th>narration_id</th>\n      <th>participant_id</th>\n      <th>video_id</th>\n      <th>narration_timestamp</th>\n      <th>start_timestamp</th>\n      <th>stop_timestamp</th>\n      <th>start_frame</th>\n      <th>stop_frame</th>\n      <th>narration</th>\n      <th>verb</th>\n      <th>verb_class</th>\n      <th>noun</th>\n      <th>noun_class</th>\n      <th>all_nouns</th>\n      <th>all_noun_classes</th>\n    </tr>\n  </thead>\n  <tbody>\n    <tr>\n      <th>0</th>\n      <td>P01_01_0</td>\n      <td>P01</td>\n      <td>P01_01</td>\n      <td>00:01.1</td>\n      <td>00:00.1</td>\n      <td>00:03.4</td>\n      <td>8</td>\n      <td>202</td>\n      <td>open door</td>\n      <td>open</td>\n      <td>3</td>\n      <td>door</td>\n      <td>3</td>\n      <td>['door']</td>\n      <td>[3]</td>\n    </tr>\n    <tr>\n      <th>1</th>\n      <td>P01_01_1</td>\n      <td>P01</td>\n      <td>P01_01</td>\n      <td>00:02.6</td>\n      <td>00:04.4</td>\n      <td>00:06.2</td>\n      <td>262</td>\n      <td>370</td>\n      <td>turn on light</td>\n      <td>turn-on</td>\n      <td>6</td>\n      <td>light</td>\n      <td>114</td>\n      <td>['light']</td>\n      <td>[114]</td>\n    </tr>\n    <tr>\n      <th>2</th>\n      <td>P01_01_10</td>\n      <td>P01</td>\n      <td>P01_01</td>\n      <td>00:23.3</td>\n      <td>00:25.0</td>\n      <td>00:26.2</td>\n      <td>1498</td>\n      <td>1572</td>\n      <td>open drawer</td>\n      <td>open</td>\n      <td>3</td>\n      <td>drawer</td>\n      <td>8</td>\n      <td>['drawer']</td>\n      <td>[8]</td>\n    </tr>\n    <tr>\n      <th>3</th>\n      <td>P01_01_100</td>\n      <td>P01</td>\n      <td>P01_01</td>\n      <td>07:57.9</td>\n      <td>07:59.8</td>\n      <td>08:00.9</td>\n      <td>28785</td>\n      <td>28852</td>\n      <td>take cup</td>\n      <td>take</td>\n      <td>0</td>\n      <td>cup</td>\n      <td>13</td>\n      <td>['cup']</td>\n      <td>[13]</td>\n    </tr>\n    <tr>\n      <th>4</th>\n      <td>P01_01_101</td>\n      <td>P01</td>\n      <td>P01_01</td>\n      <td>08:00.0</td>\n      <td>08:01.5</td>\n      <td>08:02.2</td>\n      <td>28888</td>\n      <td>28932</td>\n      <td>open cupboard</td>\n      <td>open</td>\n      <td>3</td>\n      <td>cupboard</td>\n      <td>3</td>\n      <td>['cupboard']</td>\n      <td>[3]</td>\n    </tr>\n    <tr>\n      <th>5</th>\n      <td>P01_01_102</td>\n      <td>P01</td>\n      <td>P01_01</td>\n      <td>08:01.2</td>\n      <td>08:02.1</td>\n      <td>08:03.0</td>\n      <td>28927</td>\n      <td>28980</td>\n      <td>put cup into cupboard</td>\n      <td>put-into</td>\n      <td>5</td>\n      <td>cup</td>\n      <td>13</td>\n      <td>['cup', 'cupboard']</td>\n      <td>[13, 3]</td>\n    </tr>\n    <tr>\n      <th>6</th>\n      <td>P01_01_103</td>\n      <td>P01</td>\n      <td>P01_01</td>\n      <td>08:03.9</td>\n      <td>08:05.2</td>\n      <td>08:07.2</td>\n      <td>29113</td>\n      <td>29232</td>\n      <td>take container and lid</td>\n      <td>take</td>\n      <td>0</td>\n      <td>container</td>\n      <td>21</td>\n      <td>['container', 'lid']</td>\n      <td>[21, 6]</td>\n    </tr>\n    <tr>\n      <th>7</th>\n      <td>P01_01_104</td>\n      <td>P01</td>\n      <td>P01_01</td>\n      <td>08:07.6</td>\n      <td>08:08.4</td>\n      <td>08:09.1</td>\n      <td>29302</td>\n      <td>29347</td>\n      <td>put container on top of counter</td>\n      <td>put-on</td>\n      <td>1</td>\n      <td>container</td>\n      <td>21</td>\n      <td>['container', 'top:counter']</td>\n      <td>[21, 42]</td>\n    </tr>\n    <tr>\n      <th>8</th>\n      <td>P01_01_105</td>\n      <td>P01</td>\n      <td>P01_01</td>\n      <td>08:09.9</td>\n      <td>08:12.0</td>\n      <td>08:12.7</td>\n      <td>29520</td>\n      <td>29564</td>\n      <td>open container</td>\n      <td>open</td>\n      <td>3</td>\n      <td>container</td>\n      <td>21</td>\n      <td>['container']</td>\n      <td>[21]</td>\n    </tr>\n    <tr>\n      <th>9</th>\n      <td>P01_01_106</td>\n      <td>P01</td>\n      <td>P01_01</td>\n      <td>08:12.9</td>\n      <td>08:13.2</td>\n      <td>08:14.4</td>\n      <td>29593</td>\n      <td>29662</td>\n      <td>put container inside container</td>\n      <td>put-inside</td>\n      <td>5</td>\n      <td>container</td>\n      <td>21</td>\n      <td>['container', 'container']</td>\n      <td>[21, 21]</td>\n    </tr>\n  </tbody>\n</table>\n</div>"
     },
     "execution_count": 20,
     "metadata": {},
     "output_type": "execute_result"
    }
   ],
   "source": [
    "\n",
    "df = pd.read_csv('EPIC_100_train.csv')\n",
    "df.head(10)"
   ],
   "metadata": {
    "collapsed": false,
    "ExecuteTime": {
     "start_time": "2023-05-07T14:18:39.373282Z",
     "end_time": "2023-05-07T14:18:39.581599Z"
    }
   }
  },
  {
   "cell_type": "code",
   "execution_count": 41,
   "outputs": [
    {
     "name": "stdout",
     "output_type": "stream",
     "text": [
      "id: P01_04_0,\n",
      "label: take cup,\n",
      "template: take [something],\n",
      "placeholders: ['cup'],\n",
      "tart: 00:00.1,\n",
      "end 00:03.0\n",
      "\n",
      "id: P01_04_1,\n",
      "label: put down cup,\n",
      "template: put down [something],\n",
      "placeholders: ['cup'],\n",
      "tart: 00:02.9,\n",
      "end 00:05.1\n",
      "\n",
      "id: P01_04_10,\n",
      "label: fold tablecloth,\n",
      "template: fold [something],\n",
      "placeholders: ['tablecloth'],\n",
      "tart: 00:30.7,\n",
      "end 00:35.0\n",
      "\n",
      "id: P01_04_11,\n",
      "label: pull down tablecloth,\n",
      "template: pull down [something],\n",
      "placeholders: ['tablecloth'],\n",
      "tart: 00:37.3,\n",
      "end 00:38.8\n",
      "\n",
      "id: P01_04_12,\n",
      "label: take washing up liquid,\n",
      "template: take washing up liquid,\n",
      "placeholders: ['liquid:washing:up'],\n",
      "tart: 00:41.4,\n",
      "end 00:42.1\n",
      "\n",
      "id: P01_04_13,\n",
      "label: pour washing up liquid into cup,\n",
      "template: pour washing up liquid into [something],\n",
      "placeholders: ['liquid:washing:up', 'cup'],\n",
      "tart: 00:42.2,\n",
      "end 00:44.5\n",
      "\n",
      "id: P01_04_14,\n",
      "label: open tap,\n",
      "template: open [something],\n",
      "placeholders: ['tap'],\n",
      "tart: 00:45.3,\n",
      "end 00:46.8\n",
      "\n",
      "id: P01_04_15,\n",
      "label: wash cup,\n",
      "template: wash [something],\n",
      "placeholders: ['cup'],\n",
      "tart: 00:46.9,\n",
      "end 00:52.4\n",
      "\n",
      "id: P01_04_16,\n",
      "label: rinse spoon,\n",
      "template: rinse [something],\n",
      "placeholders: ['spoon'],\n",
      "tart: 00:52.5,\n",
      "end 00:56.2\n",
      "\n",
      "id: P01_04_17,\n",
      "label: rinse cup,\n",
      "template: rinse [something],\n",
      "placeholders: ['cup'],\n",
      "tart: 00:57.3,\n",
      "end 01:02.7\n",
      "\n",
      "id: P01_04_18,\n",
      "label: turn tap,\n",
      "template: turn [something],\n",
      "placeholders: ['tap'],\n",
      "tart: 01:02.3,\n",
      "end 01:03.0\n",
      "\n",
      "id: P01_04_19,\n",
      "label: pull down cup,\n",
      "template: pull down [something],\n",
      "placeholders: ['cup'],\n",
      "tart: 01:03.5,\n",
      "end 01:07.2\n",
      "\n",
      "id: P01_04_2,\n",
      "label: take cereal bag,\n",
      "template: take cereal bag,\n",
      "placeholders: ['bag:cereal'],\n",
      "tart: 00:06.2,\n",
      "end 00:06.8\n",
      "\n",
      "id: P01_04_20,\n",
      "label: rinse sink,\n",
      "template: rinse [something],\n",
      "placeholders: ['sink'],\n",
      "tart: 01:08.6,\n",
      "end 01:11.3\n",
      "\n",
      "id: P01_04_21,\n",
      "label: rinse hands,\n",
      "template: rinse [something]s,\n",
      "placeholders: ['hand'],\n",
      "tart: 01:09.3,\n",
      "end 01:11.8\n",
      "\n",
      "id: P01_04_22,\n",
      "label: close tap,\n",
      "template: close [something],\n",
      "placeholders: ['tap'],\n",
      "tart: 01:11.4,\n",
      "end 01:12.1\n",
      "\n",
      "id: P01_04_23,\n",
      "label: dry hands,\n",
      "template: dry [something]s,\n",
      "placeholders: ['hand'],\n",
      "tart: 01:14.4,\n",
      "end 01:19.4\n",
      "\n",
      "id: P01_04_24,\n",
      "label: take bottle,\n",
      "template: take [something],\n",
      "placeholders: ['bottle'],\n",
      "tart: 01:19.8,\n",
      "end 01:22.0\n",
      "\n",
      "id: P01_04_25,\n",
      "label: open bottle,\n",
      "template: open [something],\n",
      "placeholders: ['bottle'],\n",
      "tart: 01:22.1,\n",
      "end 01:25.1\n",
      "\n",
      "id: P01_04_26,\n",
      "label: take glass,\n",
      "template: take [something],\n",
      "placeholders: ['glass'],\n",
      "tart: 01:25.4,\n",
      "end 01:26.1\n",
      "\n",
      "id: P01_04_27,\n",
      "label: pour water,\n",
      "template: pour [something],\n",
      "placeholders: ['water'],\n",
      "tart: 01:26.3,\n",
      "end 01:30.6\n",
      "\n",
      "id: P01_04_28,\n",
      "label: drink water,\n",
      "template: drink [something],\n",
      "placeholders: ['water'],\n",
      "tart: 01:31.1,\n",
      "end 01:38.6\n",
      "\n",
      "id: P01_04_29,\n",
      "label: put down bottle,\n",
      "template: put down [something],\n",
      "placeholders: ['bottle'],\n",
      "tart: 01:37.9,\n",
      "end 01:40.3\n",
      "\n",
      "id: P01_04_3,\n",
      "label: fold cereal bag,\n",
      "template: fold cereal bag,\n",
      "placeholders: ['bag:cereal'],\n",
      "tart: 00:07.3,\n",
      "end 00:10.3\n",
      "\n",
      "id: P01_04_30,\n",
      "label: put down glass,\n",
      "template: put down [something],\n",
      "placeholders: ['glass'],\n",
      "tart: 01:38.9,\n",
      "end 01:40.6\n",
      "\n",
      "id: P01_04_31,\n",
      "label: take container,\n",
      "template: take [something],\n",
      "placeholders: ['container'],\n",
      "tart: 01:40.5,\n",
      "end 01:42.0\n",
      "\n",
      "id: P01_04_4,\n",
      "label: put cereal bag into cereal box,\n",
      "template: put cereal bag into cereal box,\n",
      "placeholders: ['bag:cereal', 'box:cereal'],\n",
      "tart: 00:10.4,\n",
      "end 00:14.1\n",
      "\n",
      "id: P01_04_5,\n",
      "label: close cereal box,\n",
      "template: close cereal box,\n",
      "placeholders: ['box:cereal'],\n",
      "tart: 00:14.2,\n",
      "end 00:17.2\n",
      "\n",
      "id: P01_04_6,\n",
      "label: open cupboard,\n",
      "template: open [something],\n",
      "placeholders: ['cupboard'],\n",
      "tart: 00:18.9,\n",
      "end 00:20.2\n",
      "\n",
      "id: P01_04_7,\n",
      "label: put down cereal box,\n",
      "template: put down cereal box,\n",
      "placeholders: ['box:cereal'],\n",
      "tart: 00:19.7,\n",
      "end 00:22.7\n",
      "\n",
      "id: P01_04_8,\n",
      "label: close cupboard,\n",
      "template: close [something],\n",
      "placeholders: ['cupboard'],\n",
      "tart: 00:22.8,\n",
      "end 00:24.3\n",
      "\n",
      "id: P01_04_9,\n",
      "label: take tablecloth,\n",
      "template: take [something],\n",
      "placeholders: ['tablecloth'],\n",
      "tart: 00:25.7,\n",
      "end 00:30.7\n",
      "\n",
      "[{'id': 'P01_04_0', 'label': 'take cup', 'template': 'take [something]', 'placeholders': ['cup']}, {'id': 'P01_04_1', 'label': 'put down cup', 'template': 'put down [something]', 'placeholders': ['cup']}, {'id': 'P01_04_10', 'label': 'fold tablecloth', 'template': 'fold [something]', 'placeholders': ['tablecloth']}, {'id': 'P01_04_11', 'label': 'pull down tablecloth', 'template': 'pull down [something]', 'placeholders': ['tablecloth']}, {'id': 'P01_04_12', 'label': 'take washing up liquid', 'template': 'take washing up liquid', 'placeholders': ['liquid:washing:up']}, {'id': 'P01_04_13', 'label': 'pour washing up liquid into cup', 'template': 'pour washing up liquid into [something]', 'placeholders': ['liquid:washing:up', 'cup']}, {'id': 'P01_04_14', 'label': 'open tap', 'template': 'open [something]', 'placeholders': ['tap']}, {'id': 'P01_04_15', 'label': 'wash cup', 'template': 'wash [something]', 'placeholders': ['cup']}, {'id': 'P01_04_16', 'label': 'rinse spoon', 'template': 'rinse [something]', 'placeholders': ['spoon']}, {'id': 'P01_04_17', 'label': 'rinse cup', 'template': 'rinse [something]', 'placeholders': ['cup']}, {'id': 'P01_04_18', 'label': 'turn tap', 'template': 'turn [something]', 'placeholders': ['tap']}, {'id': 'P01_04_19', 'label': 'pull down cup', 'template': 'pull down [something]', 'placeholders': ['cup']}, {'id': 'P01_04_2', 'label': 'take cereal bag', 'template': 'take cereal bag', 'placeholders': ['bag:cereal']}, {'id': 'P01_04_20', 'label': 'rinse sink', 'template': 'rinse [something]', 'placeholders': ['sink']}, {'id': 'P01_04_21', 'label': 'rinse hands', 'template': 'rinse [something]s', 'placeholders': ['hand']}, {'id': 'P01_04_22', 'label': 'close tap', 'template': 'close [something]', 'placeholders': ['tap']}, {'id': 'P01_04_23', 'label': 'dry hands', 'template': 'dry [something]s', 'placeholders': ['hand']}, {'id': 'P01_04_24', 'label': 'take bottle', 'template': 'take [something]', 'placeholders': ['bottle']}, {'id': 'P01_04_25', 'label': 'open bottle', 'template': 'open [something]', 'placeholders': ['bottle']}, {'id': 'P01_04_26', 'label': 'take glass', 'template': 'take [something]', 'placeholders': ['glass']}, {'id': 'P01_04_27', 'label': 'pour water', 'template': 'pour [something]', 'placeholders': ['water']}, {'id': 'P01_04_28', 'label': 'drink water', 'template': 'drink [something]', 'placeholders': ['water']}, {'id': 'P01_04_29', 'label': 'put down bottle', 'template': 'put down [something]', 'placeholders': ['bottle']}, {'id': 'P01_04_3', 'label': 'fold cereal bag', 'template': 'fold cereal bag', 'placeholders': ['bag:cereal']}, {'id': 'P01_04_30', 'label': 'put down glass', 'template': 'put down [something]', 'placeholders': ['glass']}, {'id': 'P01_04_31', 'label': 'take container', 'template': 'take [something]', 'placeholders': ['container']}, {'id': 'P01_04_4', 'label': 'put cereal bag into cereal box', 'template': 'put cereal bag into cereal box', 'placeholders': ['bag:cereal', 'box:cereal']}, {'id': 'P01_04_5', 'label': 'close cereal box', 'template': 'close cereal box', 'placeholders': ['box:cereal']}, {'id': 'P01_04_6', 'label': 'open cupboard', 'template': 'open [something]', 'placeholders': ['cupboard']}, {'id': 'P01_04_7', 'label': 'put down cereal box', 'template': 'put down cereal box', 'placeholders': ['box:cereal']}, {'id': 'P01_04_8', 'label': 'close cupboard', 'template': 'close [something]', 'placeholders': ['cupboard']}, {'id': 'P01_04_9', 'label': 'take tablecloth', 'template': 'take [something]', 'placeholders': ['tablecloth']}]\n"
     ]
    }
   ],
   "source": [
    "annotations_list = []\n",
    "epic_df = pd.read_csv('EPIC_100_train.csv')\n",
    "video_names = ['P01_04']\n",
    "path = 'C:/Users/Snov/Documents/MBZUAI_Local/splitter'\n",
    "\n",
    "for video in video_names:\n",
    "    annotations_list.extend(convert_video(epic_df, video,path))\n",
    "\n",
    "print(annotations_list)"
   ],
   "metadata": {
    "collapsed": false,
    "ExecuteTime": {
     "start_time": "2023-05-07T14:43:25.198675Z",
     "end_time": "2023-05-07T14:43:25.434618Z"
    }
   }
  },
  {
   "cell_type": "code",
   "execution_count": 76,
   "outputs": [],
   "source": [
    "generate_json(annotations_list, 'Train.json')"
   ],
   "metadata": {
    "collapsed": false,
    "ExecuteTime": {
     "start_time": "2023-05-07T14:57:58.475958Z",
     "end_time": "2023-05-07T14:57:58.479494Z"
    }
   }
  },
  {
   "cell_type": "code",
   "execution_count": null,
   "outputs": [],
   "source": [
    "# out_path = 'C:/Users/Snov/Documents/MBZUAI_Local/splitter_output/'\n",
    "# in_path = 'C:/Users/Snov/Documents/MBZUAI_Local/' + video_name + '.mp4'\n",
    "#\n",
    "# for index, row in filtered_df.iterrows():\n",
    "#     start = row['start_timestamp']\n",
    "#     end = row['stop_timestamp']\n",
    "#     verb = row['verb']\n",
    "#     noun = row['noun']\n",
    "#\n",
    "#     out_name = verb + '_' + noun\n",
    "#     print(start, end)\n",
    "#     split_video(in_path, out_path, start, end, out_name)"
   ],
   "metadata": {
    "collapsed": false,
    "ExecuteTime": {
     "start_time": "2023-05-03T15:48:53.485577Z",
     "end_time": "2023-05-03T15:48:53.510863Z"
    }
   }
  }
 ],
 "metadata": {
  "kernelspec": {
   "display_name": "Python 3",
   "language": "python",
   "name": "python3"
  },
  "language_info": {
   "codemirror_mode": {
    "name": "ipython",
    "version": 2
   },
   "file_extension": ".py",
   "mimetype": "text/x-python",
   "name": "python",
   "nbconvert_exporter": "python",
   "pygments_lexer": "ipython2",
   "version": "2.7.6"
  }
 },
 "nbformat": 4,
 "nbformat_minor": 0
}
